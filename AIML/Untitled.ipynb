{
 "cells": [
  {
   "cell_type": "code",
   "execution_count": 35,
   "id": "e14c6728",
   "metadata": {},
   "outputs": [
    {
     "name": "stdout",
     "output_type": "stream",
     "text": [
      "[['sunny ', 'warm', ' normal ', 'strong', 'warm ', 'same ', 'yes'], ['sunny ', 'warm', 'high', 'strong', 'warm ', 'same ', 'yes'], ['rainy', 'cold', 'high', 'strong', 'warm ', 'change', 'no'], ['sunny ', 'warm', 'high', 'strong', 'cool', 'change', 'yes']]\n",
      "\n",
      "Step 1 of Candidate Elimination Algorithm\n",
      "['sunny ', 'warm', '?', 'strong', 'warm ', 'same ']\n",
      "[['?', '?', '?', '?', '?', '?'], ['?', '?', '?', '?', '?', '?'], ['?', '?', '?', '?', '?', '?'], ['?', '?', '?', '?', '?', '?'], ['?', '?', '?', '?', '?', '?'], ['?', '?', '?', '?', '?', '?']]\n",
      "\n",
      "Step 2 of Candidate Elimination Algorithm\n",
      "['sunny ', 'warm', '?', 'strong', 'warm ', 'same ']\n",
      "[['?', '?', '?', '?', '?', '?'], ['?', '?', '?', '?', '?', '?'], ['?', '?', '?', '?', '?', '?'], ['?', '?', '?', '?', '?', '?'], ['?', '?', '?', '?', '?', '?'], ['?', '?', '?', '?', '?', '?']]\n",
      "\n",
      "Step 3 of Candidate Elimination Algorithm\n",
      "['sunny ', 'warm', '?', 'strong', 'warm ', 'same ']\n",
      "[['sunny ', '?', '?', '?', '?', '?'], ['?', 'warm', '?', '?', '?', '?'], ['?', '?', '?', '?', '?', '?'], ['?', '?', '?', '?', '?', '?'], ['?', '?', '?', '?', '?', '?'], ['?', '?', '?', '?', '?', 'same ']]\n",
      "\n",
      "Step 4 of Candidate Elimination Algorithm\n",
      "['sunny ', 'warm', '?', 'strong', '?', '?']\n",
      "[['sunny ', '?', '?', '?', '?', '?'], ['?', 'warm', '?', '?', '?', '?'], ['?', '?', '?', '?', '?', '?'], ['?', '?', '?', '?', '?', '?'], ['?', '?', '?', '?', '?', '?'], ['?', '?', '?', '?', '?', '?']]\n",
      "\n",
      "Final Specific hypothesis:\n",
      " ['sunny ', 'warm', '?', 'strong', '?', '?']\n",
      "\n",
      "Final General hypothesis:\n",
      " [['sunny ', '?', '?', '?', '?', '?'], ['?', 'warm', '?', '?', '?', '?']]\n"
     ]
    }
   ],
   "source": [
    "import csv\n",
    "\n",
    "with open(\"D:\\\\vtu_lab\\\\AIML\\\\trainingexample.txt\") as f:\n",
    "    csv_file = csv.reader(f)\n",
    "    data = list(csv_file)\n",
    "    \n",
    "    print(data)\n",
    "    specific = data[1][:-1]\n",
    "     \n",
    "    general = [['?' for i in range(len(specific))] for j in range(len(specific))]\n",
    "    \n",
    "    \n",
    "\n",
    "    for i in data:\n",
    "     \n",
    "        if i[-1] == \"yes\":\n",
    "            for j in range(len(specific)):\n",
    "                if i[j] != specific[j]:\n",
    "                    specific[j] = \"?\"\n",
    "                    general[j][j] = \"?\"\n",
    "\n",
    "        elif i[-1] == \"no\":\n",
    "            for j in range(len(specific)):\n",
    "                if i[j] != specific[j]:\n",
    "                    general[j][j] = specific[j]\n",
    "                else:\n",
    "                    general[j][j] = \"?\"\n",
    "\n",
    "        print(\"\\nStep \" + str(data.index(i)+1) + \" of Candidate Elimination Algorithm\")\n",
    "        print(specific)\n",
    "        \n",
    "        print(general)\n",
    " \n",
    "    gh = [] # gh = general Hypothesis\n",
    "    for i in general:\n",
    "        for j in i:\n",
    "            if j != '?':\n",
    "                gh.append(i)\n",
    "                break\n",
    "    print(\"\\nFinal Specific hypothesis:\\n\", specific)\n",
    "    print(\"\\nFinal General hypothesis:\\n\", gh)\n"
   ]
  },
  {
   "cell_type": "code",
   "execution_count": null,
   "id": "ec12dd7e",
   "metadata": {},
   "outputs": [],
   "source": []
  }
 ],
 "metadata": {
  "kernelspec": {
   "display_name": "Python 3 (ipykernel)",
   "language": "python",
   "name": "python3"
  },
  "language_info": {
   "codemirror_mode": {
    "name": "ipython",
    "version": 3
   },
   "file_extension": ".py",
   "mimetype": "text/x-python",
   "name": "python",
   "nbconvert_exporter": "python",
   "pygments_lexer": "ipython3",
   "version": "3.10.2"
  }
 },
 "nbformat": 4,
 "nbformat_minor": 5
}
